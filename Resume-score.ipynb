{
 "cells": [
  {
   "cell_type": "code",
   "execution_count": 39,
   "id": "745baea4-f72f-4c7e-8ddc-524ed37e0744",
   "metadata": {},
   "outputs": [],
   "source": [
    "job_desc = '''Job Title: Software Engineer\n",
    "\n",
    "Location: San Francisco, CA\n",
    "\n",
    "Company: Tech Innovators Inc.\n",
    "\n",
    "Job Description:\n",
    "Tech Innovators Inc. is seeking a talented and passionate Software Engineer to join our dynamic team. The ideal candidate will have a strong background in software development, excellent problem-solving skills, and a keen interest in cutting-edge technology.\n",
    "\n",
    "Responsibilities:\n",
    "\n",
    "Develop, test, and maintain high-quality software applications.\n",
    "Collaborate with cross-functional teams to define, design, and ship new features.\n",
    "Identify and correct bottlenecks and fix bugs.\n",
    "Continuously discover, evaluate, and implement new technologies to maximize development efficiency.\n",
    "Participate in code reviews and contribute to the development of best practices.\n",
    "Requirements:\n",
    "\n",
    "Bachelor’s degree in Computer Science, Engineering, or a related field.\n",
    "3+ years of experience in software development.\n",
    "Proficiency in at least one programming language such as Java, Python, or C++.\n",
    "Experience with web technologies (HTML, CSS, JavaScript) and frameworks (React, Angular).\n",
    "Knowledge of database systems (SQL, NoSQL).\n",
    "Strong understanding of software development principles and methodologies.\n",
    "Excellent communication skills and a team player attitude.\n",
    "Preferred Qualifications:\n",
    "\n",
    "Master’s degree in Computer Science or related field.\n",
    "Experience with cloud platforms (AWS, Azure, GCP).\n",
    "Familiarity with DevOps practices and tools (Docker, Kubernetes).\n",
    "Knowledge of machine learning algorithms and data analysis.\n",
    "Benefits:\n",
    "\n",
    "Competitive salary and performance bonuses.\n",
    "Health, dental, and vision insurance.\n",
    "401(k) with company match.\n",
    "Flexible work hours and remote work options.\n",
    "Professional development opportunities.\n",
    "'''"
   ]
  },
  {
   "cell_type": "code",
   "execution_count": 40,
   "id": "ff77cccb-cabd-49ae-9787-1d9d40213b62",
   "metadata": {},
   "outputs": [],
   "source": [
    "resume_desc='''\n",
    "Name: Harshita Singh\n",
    "\n",
    "Location: San Francisco, CA\n",
    "\n",
    "Contact Information:\n",
    "\n",
    "Email: alex.johnson@email.com\n",
    "Phone: +91 3050359888\n",
    "LinkedIn: linkedin.com/in/alexjohnson\n",
    "Summary:\n",
    "Enthusiastic Software Engineer with 4 years of experience in developing robust software applications. Adept at problem-solving and collaborating with cross-functional teams to deliver high-quality solutions. Proficient in Java, Python, and web development technologies. Passionate about continuous learning and implementing new technologies.\n",
    "\n",
    "Professional Experience:\n",
    "\n",
    "Software Engineer\n",
    "InnovateTech Solutions\n",
    "San Francisco, CA\n",
    "June 2020 – Present\n",
    "\n",
    "Developed and maintained scalable web applications using Java and React, improving user engagement by 25%.\n",
    "Collaborated with designers and product managers to define and implement new features, resulting in a 15% increase in customer satisfaction.\n",
    "Identified and resolved performance bottlenecks, reducing load times by 40%.\n",
    "Conducted code reviews and mentored junior developers on best practices.\n",
    "Junior Software Engineer\n",
    "CodeCrafters Inc.\n",
    "San Francisco, CA\n",
    "July 2018 – May 2020\n",
    "\n",
    "Assisted in the development of web applications using Python and Angular, contributing to a 30% growth in user base.\n",
    "Implemented RESTful APIs and integrated third-party services to enhance application functionality.\n",
    "Participated in Agile development processes and collaborated with cross-functional teams to deliver projects on time.\n",
    "Performed unit testing and debugging to ensure high-quality software releases.\n",
    "Education:\n",
    "\n",
    "Bachelor of Science in Computer Science\n",
    "University of California, Berkeley\n",
    "Graduated: May 2018\n",
    "Skills:\n",
    "\n",
    "Programming Languages: Java, Python, JavaScript\n",
    "Web Technologies: HTML, CSS, React, Angular\n",
    "Databases: SQL, NoSQL (MongoDB)\n",
    "Tools: Git, Docker, Jenkins\n",
    "Cloud Platforms: AWS, GCP\n",
    "Methodologies: Agile, Scrum\n",
    "Soft Skills: Problem-solving, teamwork, communication\n",
    "Certifications:\n",
    "\n",
    "AWS Certified Solutions Architect\n",
    "Certified ScrumMaster (CSM)\n",
    "Projects:\n",
    "\n",
    "E-commerce Platform: Developed a full-stack e-commerce platform using Java and React, featuring user authentication, product management, and payment integration.\n",
    "Data Analysis Tool: Created a Python-based tool for analyzing and visualizing large datasets, utilized by the marketing team to gain insights into customer behavior.\n",
    "Volunteer Experience:\n",
    "\n",
    "Tech Mentor at Code for Good, mentoring high school students in coding and software development principles.\n",
    "'''"
   ]
  },
  {
   "cell_type": "code",
   "execution_count": 41,
   "id": "0ae11bfa",
   "metadata": {},
   "outputs": [],
   "source": [
    "# %pip install numpy\n",
    "# %pip install pandas \n",
    "# %pip install nltk\n",
    "# %pip install gensim\n",
    "# %pip install spacy\n",
    "# %pip install streamlit\n"
   ]
  },
  {
   "cell_type": "code",
   "execution_count": 42,
   "id": "a5d01094-e127-49bc-aa1b-731948f8c6a7",
   "metadata": {},
   "outputs": [],
   "source": [
    "import numpy as np\n",
    "import pandas as pd \n",
    "import nltk\n",
    "from nltk.corpus import stopwords\n",
    "from nltk.tokenize import word_tokenize\n",
    "import string\n",
    "import scipy\n",
    "import gensim\n",
    "from gensim.models import Word2Vec\n",
    "import gensim.downloader as api\n",
    "import spacy\n",
    "from spacy import displacy\n",
    "from numpy.linalg import norm\n",
    "import re \n",
    "\n"
   ]
  },
  {
   "cell_type": "code",
   "execution_count": 43,
   "id": "8f8ae216",
   "metadata": {},
   "outputs": [],
   "source": [
    "# %pip install gensim\n",
    "# %pip install scipy\n",
    "# nltk.download('punkt') "
   ]
  },
  {
   "cell_type": "code",
   "execution_count": 44,
   "id": "e41faeb4-a5fe-4bd1-b5b4-df6d87a67c40",
   "metadata": {},
   "outputs": [],
   "source": [
    "# Function 1 \n",
    "\n",
    "def preprocess(text):\n",
    "    # Lowercase \n",
    "    text = text.lower()\n",
    "    # Tokenization\n",
    "    tokens = word_tokenize(text)\n",
    "    # Remove punctutaion \n",
    "    tokens = [word for word in tokens if word.isalnum()]\n",
    "    # Remove stop words\n",
    "    stop_words = set(stopwords.words('english'))\n",
    "    tokens = [word for word in tokens if word not in stop_words]\n",
    "    return tokens "
   ]
  },
  {
   "cell_type": "code",
   "execution_count": 45,
   "id": "a2c5dc50",
   "metadata": {},
   "outputs": [],
   "source": [
    "# %pip install gensim"
   ]
  },
  {
   "cell_type": "code",
   "execution_count": 46,
   "id": "47f8bd1f-603d-43d6-be09-302febbf816e",
   "metadata": {},
   "outputs": [],
   "source": [
    "job_desc_token = preprocess(job_desc)\n",
    "resume_desc_token = preprocess(resume_desc)"
   ]
  },
  {
   "cell_type": "code",
   "execution_count": 47,
   "id": "1e143851-88c3-4615-9ac5-9e7f898aaf60",
   "metadata": {},
   "outputs": [],
   "source": [
    "# !gzip -d GoogleNews-vectors-negative300.bin.gz"
   ]
  },
  {
   "cell_type": "code",
   "execution_count": 48,
   "id": "7bc17b22-2479-4fc7-b191-2dfd367eeb3a",
   "metadata": {},
   "outputs": [],
   "source": [
    "# !pip install wget"
   ]
  },
  {
   "cell_type": "code",
   "execution_count": 49,
   "id": "dc66e6bd-f083-473c-8303-c91c36ae6c0f",
   "metadata": {},
   "outputs": [],
   "source": [
    "\n",
    "# # Load Google News pretrained Word2Vec model\n",
    "# model = gensim.models.KeyedVectors.load_word2vec_format('GoogleNews-vectors-negative300.bin.gz', binary=True)\n"
   ]
  },
  {
   "cell_type": "code",
   "execution_count": null,
   "id": "d2597136-e396-43ee-8ad5-dc4175611bd0",
   "metadata": {},
   "outputs": [],
   "source": [
    "\n"
   ]
  },
  {
   "cell_type": "code",
   "execution_count": 50,
   "id": "6f339d63-12a2-448b-8f76-6311c43f4f1e",
   "metadata": {},
   "outputs": [
    {
     "name": "stderr",
     "output_type": "stream",
     "text": [
      "2024-07-25 15:33:52.763 loading projection weights from C:\\Users\\CT_USER/gensim-data\\word2vec-google-news-300\\word2vec-google-news-300.gz\n",
      "2024-07-25 15:34:46.135 KeyedVectors lifecycle event {'msg': 'loaded (3000000, 300) matrix of type float32 from C:\\\\Users\\\\CT_USER/gensim-data\\\\word2vec-google-news-300\\\\word2vec-google-news-300.gz', 'binary': True, 'encoding': 'utf8', 'datetime': '2024-07-25T15:34:46.135549', 'gensim': '4.2.0', 'python': '3.6.3 |Anaconda, Inc.| (default, Nov  8 2017, 15:10:56) [MSC v.1900 64 bit (AMD64)]', 'platform': 'Windows-10-10.0.22621-SP0', 'event': 'load_word2vec_format'}\n"
     ]
    }
   ],
   "source": [
    "# Load the pretrained Word2Vec model\n",
    "model = api.load('word2vec-google-news-300')"
   ]
  },
  {
   "cell_type": "code",
   "execution_count": 51,
   "id": "67cec1cb-bb0a-4dfc-877a-73d9e2dbd3d5",
   "metadata": {},
   "outputs": [],
   "source": [
    "def get_paragraph_vector(tokens,model): \n",
    "    word_vectors = [model[word] for word in tokens if word in model]\n",
    "    if not word_vectors :\n",
    "        return np.zero(model.vector_size)\n",
    "    paragraph_vector = np.mean(word_vectors,axis = 0)\n",
    "    return paragraph_vector"
   ]
  },
  {
   "cell_type": "code",
   "execution_count": 52,
   "id": "5d162af6-1b3f-4a1f-9c5a-b6ec442ffbbe",
   "metadata": {},
   "outputs": [],
   "source": [
    "job_vector = get_paragraph_vector(job_desc_token,model)\n",
    "resume_vector = get_paragraph_vector(resume_desc_token,model)"
   ]
  },
  {
   "cell_type": "code",
   "execution_count": 53,
   "id": "dee2266a-dcc2-4395-9418-51fa36f4b2c5",
   "metadata": {},
   "outputs": [],
   "source": [
    "# job_vector"
   ]
  },
  {
   "cell_type": "code",
   "execution_count": 54,
   "id": "68092bbb-76bd-4b29-89c7-5c67727a5b1a",
   "metadata": {},
   "outputs": [],
   "source": [
    "# Cosine Similarity \n",
    "def cosine_sim(resume_vector,job_vector):\n",
    "    cosine = np.dot(resume_vector,job_vector)/(norm(resume_vector)*norm(job_vector))\n",
    "    return cosine"
   ]
  },
  {
   "cell_type": "code",
   "execution_count": 55,
   "id": "5cad0fcd-820d-44ac-a627-595f39c24fcb",
   "metadata": {},
   "outputs": [],
   "source": [
    "# model.most_similar('software')"
   ]
  },
  {
   "cell_type": "code",
   "execution_count": 56,
   "id": "99b6d9b8-4278-4f69-b250-9bd55cc54228",
   "metadata": {},
   "outputs": [],
   "source": [
    "# model.similarity('java','python')"
   ]
  },
  {
   "cell_type": "code",
   "execution_count": 57,
   "id": "f3198cdb",
   "metadata": {},
   "outputs": [],
   "source": [
    "# !python -m spacy download en_core_web_lg"
   ]
  },
  {
   "cell_type": "code",
   "execution_count": 58,
   "id": "27b767aa-b588-4933-9375-147c1fd93912",
   "metadata": {},
   "outputs": [],
   "source": [
    "# Name - Entity Recognition \n",
    "\n",
    "\n",
    "NER = spacy.load(\"en_core_web_lg\")\n",
    "text1 = NER(job_desc)\n",
    "text2 = NER(resume_desc)"
   ]
  },
  {
   "cell_type": "code",
   "execution_count": 59,
   "id": "c7bb6925-381b-4928-92c9-1e02b9d9bb40",
   "metadata": {},
   "outputs": [],
   "source": [
    "# for word in text1.ents:\n",
    "#     print(word.text,word.label_)"
   ]
  },
  {
   "cell_type": "code",
   "execution_count": 60,
   "id": "825e6670-e8c3-48cc-8510-d0277ebed0c1",
   "metadata": {},
   "outputs": [],
   "source": [
    "# for word in text2.ents:\n",
    "#     print(word.text,word.label_)"
   ]
  },
  {
   "cell_type": "code",
   "execution_count": 61,
   "id": "d693e303-2537-4c45-a647-b904869e4221",
   "metadata": {},
   "outputs": [],
   "source": [
    "\n",
    "desired_labels = [\"PERSON\", \"EMAIL\", \"PHONE\"]\n",
    "\n",
    "# Extract entities based on the desired labels\n",
    "entities = [(ent.text, ent.label_) for ent in text2.ents if ent.label_ in desired_labels]\n"
   ]
  },
  {
   "cell_type": "code",
   "execution_count": 62,
   "id": "7e11d91c-5288-4c07-baed-9c3de56c7a28",
   "metadata": {},
   "outputs": [
    {
     "data": {
      "text/plain": [
       "[('Harshita Singh', 'PERSON'), ('Docker', 'PERSON')]"
      ]
     },
     "execution_count": 62,
     "metadata": {},
     "output_type": "execute_result"
    }
   ],
   "source": [
    "entities"
   ]
  },
  {
   "cell_type": "code",
   "execution_count": null,
   "id": "ee0370ce",
   "metadata": {},
   "outputs": [],
   "source": []
  },
  {
   "cell_type": "code",
   "execution_count": 63,
   "id": "b4d1e134-d415-4719-b8bf-ce7bb8fae6c6",
   "metadata": {},
   "outputs": [],
   "source": [
    "# Email id and phone number using regular expressions \n",
    "\n",
    "email_regex = r'\\b[A-Za-z0-9._%+-]+@[A-Za-z0-9.-]+\\.[A-Z|a-z]{2,}\\b'\n",
    "phone_regex = r'\\+91 \\d{10}'"
   ]
  },
  {
   "cell_type": "code",
   "execution_count": 64,
   "id": "00f990d2-298b-4abd-a255-975dd0d2f697",
   "metadata": {},
   "outputs": [],
   "source": [
    "\n",
    "email = re.findall(email_regex, resume_desc)\n",
    "phone = re.findall(phone_regex, resume_desc)"
   ]
  },
  {
   "cell_type": "code",
   "execution_count": 65,
   "id": "e1956c48-be94-4050-b887-ee984c193d97",
   "metadata": {},
   "outputs": [
    {
     "data": {
      "text/plain": [
       "['alex.johnson@email.com']"
      ]
     },
     "execution_count": 65,
     "metadata": {},
     "output_type": "execute_result"
    }
   ],
   "source": [
    "email"
   ]
  },
  {
   "cell_type": "code",
   "execution_count": 66,
   "id": "50e39467-8cce-4dc8-b3a0-97e0cc5a10a8",
   "metadata": {},
   "outputs": [
    {
     "data": {
      "text/plain": [
       "['+91 3050359888']"
      ]
     },
     "execution_count": 66,
     "metadata": {},
     "output_type": "execute_result"
    }
   ],
   "source": [
    "phone"
   ]
  },
  {
   "cell_type": "code",
   "execution_count": 67,
   "id": "b89b35ca-3653-4a86-b34b-7235e6cb2f4a",
   "metadata": {},
   "outputs": [],
   "source": [
    "def details(text2,email_regex,phone_regex):\n",
    "    name = [ent.text for ent in text2.ents if ent.label_ == 'PERSON'][0]\n",
    "    email = re.findall(email_regex, resume_desc)\n",
    "    phone = re.findall(phone_regex, resume_desc)\n",
    "    result = [name] + email + phone\n",
    "    return result\n",
    "    \n"
   ]
  },
  {
   "cell_type": "code",
   "execution_count": 68,
   "id": "f3392b8f",
   "metadata": {},
   "outputs": [
    {
     "data": {
      "text/plain": [
       "['Harshita Singh', 'alex.johnson@email.com', '+91 3050359888']"
      ]
     },
     "execution_count": 68,
     "metadata": {},
     "output_type": "execute_result"
    }
   ],
   "source": [
    "details(text2,email_regex,phone_regex)"
   ]
  },
  {
   "cell_type": "code",
   "execution_count": 69,
   "id": "ccde703c",
   "metadata": {},
   "outputs": [],
   "source": [
    "# import streamlit as st"
   ]
  },
  {
   "cell_type": "code",
   "execution_count": 70,
   "id": "33f75340",
   "metadata": {},
   "outputs": [],
   "source": [
    "# st.title('Resume Score')"
   ]
  },
  {
   "cell_type": "code",
   "execution_count": 71,
   "id": "b73c923c",
   "metadata": {},
   "outputs": [],
   "source": [
    "import pickle"
   ]
  },
  {
   "cell_type": "code",
   "execution_count": 72,
   "id": "84ebd8a1",
   "metadata": {},
   "outputs": [],
   "source": [
    "# Save the model\n",
    "with open('word2vec_model.pkl', 'wb') as f:\n",
    "    pickle.dump(model, f)\n",
    "\n",
    "# Save the vectors\n",
    "with open('vectors.pkl', 'wb') as f:\n",
    "    pickle.dump({'job_vector': job_vector, 'resume_vector': resume_vector}, f)\n"
   ]
  },
  {
   "cell_type": "code",
   "execution_count": null,
   "id": "78711d55",
   "metadata": {},
   "outputs": [],
   "source": []
  }
 ],
 "metadata": {
  "kernelspec": {
   "display_name": "Python 3 (ipykernel)",
   "language": "python",
   "name": "python3"
  },
  "language_info": {
   "codemirror_mode": {
    "name": "ipython",
    "version": 3
   },
   "file_extension": ".py",
   "mimetype": "text/x-python",
   "name": "python",
   "nbconvert_exporter": "python",
   "pygments_lexer": "ipython3",
   "version": "3.6.3"
  }
 },
 "nbformat": 4,
 "nbformat_minor": 5
}
